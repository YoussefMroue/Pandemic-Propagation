{
 "cells": [
  {
   "cell_type": "code",
   "execution_count": 1,
   "metadata": {},
   "outputs": [],
   "source": [
    "from flask import Flask, render_template\n",
    "import pymongo\n",
    "import os\n",
    "import pandas as pd"
   ]
  },
  {
   "cell_type": "code",
   "execution_count": 17,
   "metadata": {},
   "outputs": [],
   "source": [
    "cases_path = os.path.join('assets','data','cleanData','SARS_cases.csv')\n",
    "deaths_path = os.path.join('assets','data','cleanData','SARS_deaths.csv')\n",
    "cases_df = pd.read_csv(cases_path, index_col=0)\n",
    "deaths_df = pd.read_csv(deaths_path, index_col=0)"
   ]
  },
  {
   "cell_type": "code",
   "execution_count": 19,
   "metadata": {},
   "outputs": [],
   "source": [
    "cases_dict = cases_df.to_dict('records')\n",
    "deaths_dict = deaths_df.to_dict('records')"
   ]
  },
  {
   "cell_type": "code",
   "execution_count": 21,
   "metadata": {},
   "outputs": [],
   "source": [
    "app = Flask(__name__)\n",
    "conn = 'mongodb://localhost:27017'\n",
    "client = pymongo.MongoClient(conn)\n",
    "\n",
    "db = client.virus_db\n",
    "db.cases.drop()\n",
    "db.deaths.drop()\n",
    "\n",
    "db.cases.insert_many(cases_dict)\n",
    "db.deaths.insert_many(deaths_dict)\n",
    "\n",
    "\n",
    "@app.route('/cases')\n",
    "def cases():\n",
    "    cases = list(db.cases.find())\n",
    "    print(cases)\n",
    "    return cases"
   ]
  }
 ],
 "metadata": {
  "kernelspec": {
   "display_name": "Python 3",
   "language": "python",
   "name": "python3"
  },
  "language_info": {
   "codemirror_mode": {
    "name": "ipython",
    "version": 3
   },
   "file_extension": ".py",
   "mimetype": "text/x-python",
   "name": "python",
   "nbconvert_exporter": "python",
   "pygments_lexer": "ipython3",
   "version": "3.7.4"
  }
 },
 "nbformat": 4,
 "nbformat_minor": 4
}
