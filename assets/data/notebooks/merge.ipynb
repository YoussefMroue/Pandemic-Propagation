{
 "cells": [
  {
   "cell_type": "code",
   "execution_count": 1,
   "metadata": {},
   "outputs": [],
   "source": [
    "import os\n",
    "import pandas as pd"
   ]
  },
  {
   "cell_type": "code",
   "execution_count": 2,
   "metadata": {},
   "outputs": [],
   "source": [
    "covid19_cases = pd.read_csv(os.path.join('..','cleanData','FinalCoronavirusConfCases.csv'), index_col=0)\n",
    "covid19_deaths = pd.read_csv(os.path.join('..','cleanData','FinalCoronavirusDeathCases.csv'), index_col=0)\n",
    "SARS_cases = pd.read_csv(os.path.join('..','cleanData','SARS_cases.csv'), index_col=0)\n",
    "SARS_deaths = pd.read_csv(os.path.join('..','cleanData','SARS_deaths.csv'), index_col=0)\n",
    "H1N1_cases = pd.read_csv(os.path.join('..','cleanData','H1N1_cases.csv'), index_col=0)\n",
    "H1N1_deaths = pd.read_csv(os.path.join('..','cleanData','H1N1_deaths.csv'), index_col=0)"
   ]
  },
  {
   "cell_type": "code",
   "execution_count": 3,
   "metadata": {},
   "outputs": [],
   "source": [
    "cases_df = pd.concat([covid19_cases, SARS_cases, H1N1_cases], sort=False)\n",
    "deaths_df = pd.concat([covid19_deaths, SARS_deaths, H1N1_deaths], sort=False)"
   ]
  },
  {
   "cell_type": "code",
   "execution_count": 4,
   "metadata": {},
   "outputs": [],
   "source": [
    "cases_df.to_csv(os.path.join('..','finalData','cases.csv'))\n",
    "deaths_df.to_csv(os.path.join('..','finalData','deaths.csv'))"
   ]
  },
  {
   "cell_type": "code",
   "execution_count": null,
   "metadata": {},
   "outputs": [],
   "source": []
  }
 ],
 "metadata": {
  "kernelspec": {
   "display_name": "Python 3",
   "language": "python",
   "name": "python3"
  },
  "language_info": {
   "codemirror_mode": {
    "name": "ipython",
    "version": 3
   },
   "file_extension": ".py",
   "mimetype": "text/x-python",
   "name": "python",
   "nbconvert_exporter": "python",
   "pygments_lexer": "ipython3",
   "version": "3.7.4"
  }
 },
 "nbformat": 4,
 "nbformat_minor": 4
}
