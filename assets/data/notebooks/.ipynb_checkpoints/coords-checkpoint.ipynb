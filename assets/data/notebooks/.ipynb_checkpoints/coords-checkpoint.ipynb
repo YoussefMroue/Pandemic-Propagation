{
 "cells": [
  {
   "cell_type": "code",
   "execution_count": 1,
   "metadata": {},
   "outputs": [],
   "source": [
    "#we import necessary modules\n",
    "import pandas as pd\n",
    "import numpy as np\n",
    "from bs4 import BeautifulSoup as bs\n",
    "import requests\n",
    "import os"
   ]
  },
  {
   "cell_type": "code",
   "execution_count": 2,
   "metadata": {},
   "outputs": [],
   "source": [
    "#we get our url to scrape coords\n",
    "url = 'https://developers.google.com/public-data/docs/canonical/countries_csv'\n",
    "response = requests.get(url)\n",
    "soup = bs(response.text, 'html.parser')\n",
    "\n",
    "#and we scrape\n",
    "coords_df = pd.DataFrame({'Country': [], 'Latitude': [], 'Longitude': []})\n",
    "table = soup.find('table')\n",
    "rows = table.findAll('tr')\n",
    "for row in rows[1:]:\n",
    "    data = row.findAll('td')\n",
    "    country = data[3].text\n",
    "    lat = data[1].text\n",
    "    long = data[2].text\n",
    "    new_data = [country,lat,long]\n",
    "    coords_df.loc[len(coords_df)] = new_data"
   ]
  },
  {
   "cell_type": "code",
   "execution_count": 3,
   "metadata": {},
   "outputs": [],
   "source": [
    "#now we export to csv\n",
    "path = os.path.join('..','rawdata','coords.csv')\n",
    "coords_df.to_csv(path)"
   ]
  },
  {
   "cell_type": "code",
   "execution_count": null,
   "metadata": {},
   "outputs": [],
   "source": []
  }
 ],
 "metadata": {
  "kernelspec": {
   "display_name": "Python 3",
   "language": "python",
   "name": "python3"
  },
  "language_info": {
   "codemirror_mode": {
    "name": "ipython",
    "version": 3
   },
   "file_extension": ".py",
   "mimetype": "text/x-python",
   "name": "python",
   "nbconvert_exporter": "python",
   "pygments_lexer": "ipython3",
   "version": "3.7.4"
  }
 },
 "nbformat": 4,
 "nbformat_minor": 4
}
